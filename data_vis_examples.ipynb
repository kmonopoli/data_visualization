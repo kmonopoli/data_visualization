{
 "cells": [
  {
   "cell_type": "markdown",
   "metadata": {},
   "source": [
    "# Color Schemes"
   ]
  },
  {
   "cell_type": "code",
   "execution_count": 41,
   "metadata": {},
   "outputs": [
    {
     "data": {
      "text/plain": [
       "array([0.1       , 0.18888889, 0.27777778, 0.36666667, 0.45555556,\n",
       "       0.54444444, 0.63333333, 0.72222222, 0.81111111, 0.9       ])"
      ]
     },
     "execution_count": 41,
     "metadata": {},
     "output_type": "execute_result"
    },
    {
     "data": {
      "image/png": "[encoded data removed]",
      "text/plain": [
       "<Figure size 720x72 with 1 Axes>"
      ]
     },
     "metadata": {
      "needs_background": "light"
     },
     "output_type": "display_data"
    }
   ],
   "source": [
    "exn_cols = (np.linspace(0.1,0.9,10))\n",
    "sns.color_palette(plt.cm.tab20b(exn_cols))#.as_hex()\n",
    "\n",
    "\n",
    "# sns.palplot(['#370042','#600073',\"#980070\",\"#c60065\",\"#e92a55\",\"#ff5a40\",\"#ff8827\",\"#ffb600\",\"#ffe300\",\"#fff89c\"])\n",
    "\n",
    "sns.color_palette(['#370042','#600073',\"#980070\",\"#c60065\",\"#e92a55\",\"#ff5a40\",\"#ff8827\",\"#ffb600\",\"#ffe300\",\"#fff89c\"])\n",
    "sns.palplot(plt.cm.tab20b(exn_cols))\n",
    "\n",
    "exn_cols\n",
    "\n"
   ]
  },
  {
   "cell_type": "code",
   "execution_count": null,
   "metadata": {},
   "outputs": [],
   "source": [
    "np.linspace(0.1,0.9,10)"
   ]
  },
  {
   "cell_type": "code",
   "execution_count": 4,
   "metadata": {},
   "outputs": [
    {
     "data": {
      "text/plain": [
       "['#6b6ecf',\n",
       " '#9c9ede',\n",
       " '#8ca252',\n",
       " '#cedb9c',\n",
       " '#bd9e39',\n",
       " '#e7ba52',\n",
       " '#843c39',\n",
       " '#d6616b',\n",
       " '#7b4173',\n",
       " '#ce6dbd']"
      ]
     },
     "execution_count": 4,
     "metadata": {},
     "output_type": "execute_result"
    },
    {
     "data": {
      "image/png": "[encoded data removed]",
      "text/plain": [
       "<Figure size 720x72 with 1 Axes>"
      ]
     },
     "metadata": {
      "needs_background": "light"
     },
     "output_type": "display_data"
    }
   ],
   "source": [
    "# Set up color Pallette for plotting\n",
    "from matplotlib.colors import ListedColormap\n",
    "from matplotlib import cm\n",
    "import seaborn as sns\n",
    "import matplotlib.pyplot as plt\n",
    "import matplotlib\n",
    "import numpy as np\n",
    "\n",
    "    \n",
    "# For plotting:\n",
    "%matplotlib inline\n",
    "\n",
    "\n",
    "\n",
    "custom_colors = plt.cm.tab20b(np.linspace(0.1,0.9,10))\n",
    "\n",
    "# Set your custom color palette\n",
    "customPalette = sns.set_palette(sns.color_palette(custom_colors))\n",
    "# convert seaborn color schemes to matplotlib colormaps\n",
    "# color_map = ListedColormap(color_scheme.as_hex()) \n",
    "# Show color Pallete\n",
    "sns.palplot(custom_colors)\n",
    "\n",
    "red_theme = \"#3498db\"\n",
    "blue_theme = \"#eba044\"\n",
    "\n",
    "# print(\"theme_1 color:\")\n",
    "# sns.palplot(red_theme)\n",
    "\n",
    "# print(\"theme_2 color:\")\n",
    "# sns.palplot(blue_theme)\n",
    "\n",
    "\n",
    "sns.color_palette(custom_colors).as_hex()\n",
    "\n",
    "# https://learnui.design/tools/data-color-picker.html\n"
   ]
  },
  {
   "cell_type": "markdown",
   "metadata": {},
   "source": [
    "# Various Plot Types\n",
    "## Bar\n",
    "## Box and Whisker\n",
    "## Scatter Plot\n",
    "## Histogram\n",
    "## Alignment Diagram\n",
    "## Weight Matrix\n",
    "# Image File Types (vector)\n"
   ]
  },
  {
   "cell_type": "markdown",
   "metadata": {},
   "source": [
    "# Gene Diagram"
   ]
  },
  {
   "cell_type": "code",
   "execution_count": 39,
   "metadata": {},
   "outputs": [],
   "source": [
    "import matplotlib.pyplot as plt\n",
    "import numpy as np\n",
    "import matplotlib\n",
    "\n",
    "\n",
    "\n",
    "class GeneImage(object):\n",
    "    def __init__(self, exon_intervals, marker_pos=[], marker_heights=[], marker_colors=[],\n",
    "                 marker_size=200, marker_weight=1.5, exon_color=\"black\", intron_color=\"black\",\n",
    "                 intron_weight=0, intron_style='-', bar_color='black', bg_color=\"white\"):\n",
    "        self.exonIntervals = exon_intervals\n",
    "        self.markerPositions = marker_pos\n",
    "        self.markerHeights = marker_heights\n",
    "        self.markerColors = marker_colors\n",
    "        self.markerSize = marker_size\n",
    "        self.MarkerWeight = marker_weight\n",
    "        self.exonColor = exon_color\n",
    "        self.intronColor = intron_color\n",
    "        self.intronWeight = intron_weight\n",
    "        self.intronStyle = intron_style\n",
    "        self.barColor= bar_color\n",
    "        self.bgColor = bg_color\n",
    "        self.markerDefaultColor = 'grey'\n",
    "        self.numExons = len(self.exonIntervals)\n",
    "        self.totalSpan = 31976\n",
    "        self.minExonLen = self.totalSpan*0.005\n",
    "        self.ylims = {'exon_max': 2, 'exon_min':1}\n",
    "        self.figure, self.canvas = plt.subplots(figsize=(30,5)) # TODO: change to larger number\n",
    "        self.canvas.set_facecolor(self.bgColor)\n",
    "        self._draw()\n",
    "\n",
    "    def _set_limits(self):\n",
    "        self.ylims['intron_max'] = self.ylims['exon_max']*0.9\n",
    "        self.ylims['intron_min'] = (self.ylims['exon_max'] + self.ylims['exon_min'])/2.0\n",
    "        self.ylims['bar_min'] = self.ylims['exon_max']-0.6#+0.2\n",
    "        self.ylims['bar_max'] = self.ylims['bar_min']+(self.ylims['exon_max']-self.ylims['exon_min'])/5.0\n",
    "        \n",
    "    \n",
    "    def _transform_spans(self):\n",
    "        span_lens = [x[1]-x[0] for x in self.exonIntervals]\n",
    "        max_len = float(max(span_lens))\n",
    "        transformed_intervals = []\n",
    "        if max_len < self.minExonLen:\n",
    "            span_ratios = [x/max_len for x in span_lens]\n",
    "            expansion_factor = self.totalSpan*1e-11\n",
    "            for i in range(1,10):\n",
    "                ef = (2**i)*expansion_factor\n",
    "                if max_len+ef > self.minExonLen:\n",
    "                    expansion_factor = ef\n",
    "                    break\n",
    "            for i,j in zip(self.exonIntervals, span_ratios):\n",
    "                mid = (i[0] + i[1])/2\n",
    "                f = (expansion_factor*j)/2\n",
    "                if mid+f - mid-f > self.minExonLen:\n",
    "                    transformed_intervals.append([mid-f, mid+f])\n",
    "                else:\n",
    "                    transformed_intervals.append([mid-(self.minExonLen/2), mid+(self.minExonLen/2)])\n",
    "        else:\n",
    "            for i in range(self.numExons):\n",
    "                if span_lens[i] < self.minExonLen:\n",
    "                    mid = (self.exonIntervals[i][0] + self.exonIntervals[i][0])/2 \n",
    "                    transformed_intervals.append([mid-(self.minExonLen/2), mid+(self.minExonLen/2)])\n",
    "                else:\n",
    "                    transformed_intervals.append(self.exonIntervals[i])\n",
    "        self.exonIntervals = transformed_intervals[:]\n",
    "        \n",
    "    def _draw_exon(self, span,col):\n",
    "        self.canvas.fill_between(span, self.ylims['exon_min']+.2, self.ylims['exon_max']-.2,\n",
    "                                 edgecolor=self.bgColor, facecolor=col)#self.exonColor)\n",
    "        return True\n",
    "    \n",
    "    def _draw_first_exon(self, span,col):\n",
    "        self.canvas.fill_between(span, self.ylims['exon_min']-.1+.2, self.ylims['exon_max']-.1-.2,\n",
    "                                 edgecolor=self.bgColor, facecolor=col)#self.exonColor)\n",
    "        return True\n",
    "        \n",
    "    def _draw_intron(self, span):\n",
    "        mid = (span[0]+span[1])/2.0\n",
    "        self.canvas.plot([span[0], mid], [self.ylims['intron_min'], self.ylims['intron_max']],\n",
    "                         c=self.intronColor, lw=self.intronWeight, ls=self.intronStyle)\n",
    "        self.canvas.plot([mid, span[1]], [self.ylims['intron_max'], self.ylims['intron_min']],\n",
    "                         c=self.intronColor, lw=self.intronWeight, ls=self.intronStyle)\n",
    "        return True\n",
    "    \n",
    "    def _draw_markers(self):\n",
    "        if self.markerHeights == []:\n",
    "            self.markerHeights = [self.ylims['exon_max']-self.ylims['exon_min'] for x in self.markerPositions]\n",
    "        if self.markerColors == []:\n",
    "            self.markerColors = [self.markerDefaultColor for x in self.markerPositions] \n",
    "        norm = matplotlib.colors.Normalize(-1,1)\n",
    "        grad_colrs = [[norm(-1.0), \"white\"],[norm( 1.0), \"#00bfc9\"]]\n",
    "        cmp1 = matplotlib.colors.LinearSegmentedColormap.from_list(\"\", grad_colrs)\n",
    "#         for p,h,c,m in zip(self.markerPositions, self.markerHeights, self.markerColors,num_missing):\n",
    "#             self.canvas.plot((p, p), (self.ylims['bar_max'], self.ylims['bar_max']+h),\n",
    "#                              linestyle='', color='black', linewidth=self.MarkerWeight, alpha=0.7)\n",
    "        self.canvas.scatter(self.markerPositions, [x+0.82 for x in self.markerHeights], \n",
    "#                 c =  [20, 18, 17, 20, 12, 11, 23, 37, 13, 26, 14, 11, 23, 12, 13, 24, 12, 16, 13, 49, 14, 15, 9, 15, 13, 18, 17, 20, 16, 77, 16, 21, 16, 7, 14, 15, 17, 31, 30, 31, 17, 32, 31, 31, 13, 34, 36, 18, 8, 11, 9, 8, 8, 14, 24, 7, 13, 9, 14, 12, 13, 36, 100, 13, 18, 13, 15, 94, 14, 13, 41, 14, 48, 41, 47, 46, 46, 43, 36, 41, 6, 43, 43, 40, 16, 21, 21, 13, 21, 169, 20, 13, 22, 169, 17, 19, 14, 11, 14, 20, 19, 31, 12, 21, 17, 6, 21, 25],\n",
    "                c = [3,3,4,3,16,64,42,35,59,14,4,64,78,5,42,4,38,68,58,19,43,67,68,69,24,6,60,70,40,7,17,25,8,5,66,54,9,63,10,9,38,47,49,10,28,15,34,9,12,11,12,24,64,100,34,13,63,63,49,51,47,77,64,66,51,50,31,9,55,15,11,10,34,10,34,12,11,56,37,21,11,53,84,14,13,12,87,10,15,10,12,9,9,12,13,22,42,67,10,10,29,30,5,4,13,15,22,0],\n",
    "\n",
    "                s=self.markerSize, marker='v', cmap=cmp1,\n",
    "                linewidths=1,edgecolors='black', alpha=1)\n",
    "#             self.canvas.scatter(p, self.ylims['bar_max']+0.23, s=self.markerSize, marker='v', c=\n",
    "#                                 cmap=cmp1,linewidths=1.5,edgecolors='black', alpha=1)       \n",
    "    \n",
    "    def _clean_axes(self):\n",
    "        #self.canvas.set_ylim((self.ylims['exon_min'], self.ylims['bar_max']))\n",
    "        self.canvas.set_yticks([], [])\n",
    "        self.canvas.get_xaxis().tick_top()\n",
    "        self.canvas.tick_params(axis='x', direction='out')\n",
    "        self.canvas.set_xticks([])\n",
    "        for o in [\"top\", \"bottom\", \"left\", \"right\"]:\n",
    "            self.canvas.spines[o].set_visible(False)\n",
    "        min_pos = 0#int(self.exonIntervals[0][0] - self.totalSpan * 0.1)\n",
    "        if min_pos < 0:\n",
    "            min_pos = 0\n",
    "        max_pos = 31976#int(self.exonIntervals[-1][1] + self.totalSpan * 0.1)\n",
    "        minortick_pos = [int(x) for x in range(0, 31976, int((0-31976)/20))][1:]\n",
    "        \n",
    "    def _draw(self):\n",
    "        self._set_limits()\n",
    "        self._transform_spans()#['maroon','orange','pink','Purple','magenta','Blue','Green','red',\"lime\"]\n",
    "        \n",
    "        # colors\n",
    "        exn_cols = ['#370042','#600073',\"#980070\",\"#c60065\",\"#e92a55\",\"#ff5a40\",\"#ff8827\",\"#ffb600\",\"#ffe300\",\"#fff89c\"]\n",
    "#         exn_cols = plt.cm.tab20b(np.linspace(0.1,0.9,10))\n",
    "\n",
    "        self.canvas.fill_between([0,self.totalSpan ],\n",
    "                                  self.ylims['bar_min'], self.ylims['bar_max'],\n",
    "                                  edgecolor=self.bgColor, facecolor=self.barColor)\n",
    "\n",
    "        for i in range(self.numExons):\n",
    "            if i > 0:\n",
    "                self._draw_intron([self.exonIntervals[i-1][1], self.exonIntervals[i][0]])\n",
    "            if i==1:\n",
    "                self._draw_first_exon(self.exonIntervals[i],exn_cols[i])\n",
    "            else:\n",
    "                self._draw_exon(self.exonIntervals[i],exn_cols[i])\n",
    "        \n",
    "        self._draw_markers()\n",
    "        self._clean_axes()\n",
    "    \n",
    "    def show(self):\n",
    "        plt.show()\n",
    "    def save(self,file_name):\n",
    "        plt.savefig(file_name+\".eps\", format='eps',transparent=True)\n",
    "        print(\"File saved to: \",file_name+\".eps\" )\n",
    "        \n",
    "\n",
    "\n",
    "\n",
    "        \n",
    "\n",
    "\n"
   ]
  },
  {
   "cell_type": "code",
   "execution_count": 40,
   "metadata": {},
   "outputs": [
    {
     "data": {
      "image/png": "[encoded data removed]",
      "text/plain": [
       "<Figure size 2160x360 with 1 Axes>"
      ]
     },
     "metadata": {},
     "output_type": "display_data"
    }
   ],
   "source": [
    "# exon positions\n",
    "exon_pos=[266, 21555],[266, 13483], [21563, 25384], [25393, 26220], [26245, 26472], [26523, 27191], [27394, 27759], [27894, 28259], [28274, 29533]\n",
    "\n",
    "# Patient isolate homology:\n",
    "# homology_list =  [20, 18, 17, 20, 12, 11, 23, 37, 13, 26, 14, 11, 23, 12, 13, 24, 12, 16, 13, 49, 14, 15, 9, 15, 13, 18, 17, 20, 16, 77, 16, 21, 16, 7, 14, 15, 17, 31, 30, 31, 17, 32, 31, 31, 13, 34, 36, 18, 8, 11, 9, 8, 8, 14, 24, 7, 13, 9, 14, 12, 13, 36, 100, 13, 18, 13, 15, 94, 14, 13, 41, 14, 48, 41, 47, 46, 46, 43, 36, 41, 6, 43, 43, 40, 16, 21, 21, 13, 21, 169, 20, 13, 22, 169, 17, 19, 14, 11, 14, 20, 19, 31, 12, 21, 17, 6, 21, 25]\n",
    "\n",
    "# CoV family homology:\n",
    "# homology_list = [3,3,4,3,16,64,42,35,59,14,4,64,78,5,42,4,38,68,58,19,43,67,68,69,24,6,60,70,40,7,17,25,8,5,66,54,9,63,10,9,38,47,49,10,28,15,34,9,12,11,12,24,64,100,34,13,63,63,49,51,47,77,64,66,51,50,31,9,55,15,11,10,34,10,34,12,11,56,37,21,11,53,84,14,13,12,87,10,15,10,12,9,9,12,13,22,42,67,10,10,29,30,5,4,13,15,22,0\n",
    "# NOTE: NEED TO UPDATE c IN CODE ABOVE TO CHANGE HOMOLOGY COLORS IN ARROWS!!\n",
    "\n",
    "# marker positions\n",
    "marker_pos = [8744,6059,2290,9679,11594,8201,6322,416,12932,6499,7643,8200,21391,14361,15376,17370,18571,14830,17107,20497,15786,18025,14080,20892,25375,23174,24289,21944,22820,22898,23239,22223,23240,24056,22550,23774,25992,25734,25870,25868,26066,25630,25745,25736,25413,25717,25914,26018,26463,26374,26467,26261,26258,26470,26313,26269,26305,26277,26369,26455,26581,27014,27032,26638,26573,26637,26602,27035,26693,26717,27123,26624,27751,27537,27522,27705,27671,27633,27656,27565,27455,27720,27715,27553,28119,27932,27940,28218,28002,28128,27986,28222,28024,28127,28163,28091,29328,29307,28945,28655,29276,29464,28992,29293,29303,28407,29292,29141]\n",
    "total_span = 31976\n",
    "gene = GeneImage(exon_pos, marker_pos)\n",
    "\n",
    "\n",
    "# gene.show()\n",
    "# save\n",
    "# gene.save(\"covid_genome_arrows_colored_by_genome_presence\")\n",
    "# gene.save(\"covid_genome_arrows_colored_by_genome_presence_CoV_family\")"
   ]
  },
  {
   "cell_type": "code",
   "execution_count": null,
   "metadata": {},
   "outputs": [],
   "source": []
  }
 ],
 "metadata": {
  "kernelspec": {
   "display_name": "Python 3",
   "language": "python",
   "name": "python3"
  },
  "language_info": {
   "codemirror_mode": {
    "name": "ipython",
    "version": 3
   },
   "file_extension": ".py",
   "mimetype": "text/x-python",
   "name": "python",
   "nbconvert_exporter": "python",
   "pygments_lexer": "ipython3",
   "version": "3.7.6"
  }
 },
 "nbformat": 4,
 "nbformat_minor": 4
}
