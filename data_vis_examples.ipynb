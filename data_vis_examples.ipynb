{
 "cells": [
  {
   "cell_type": "markdown",
   "metadata": {},
   "source": [
    "# Go through ALL TODO's!!\n",
    "# Be sure imported everything when needed!\n",
    "# TODO: have a more \"Advanced\" section? with additional options?\n"
   ]
  },
  {
   "cell_type": "markdown",
   "metadata": {},
   "source": [
    "<a id='top'></a>\n",
    "# Contents:\n",
    "* [Color Schemes](#color_schemes)\n",
    "* [Various Plots](#plots)\n",
    "* [Gene Diagram](#gene_diagram)\n",
    "* [Additional Useful Methods](#etc)\n"
   ]
  },
  {
   "cell_type": "code",
   "execution_count": null,
   "metadata": {},
   "outputs": [],
   "source": [
    "# import required packages\n",
    "from matplotlib import cm\n",
    "import numpy as np\n",
    "import matplotlib\n",
    "import matplotlib.pyplot as plt\n",
    "import seaborn as sns\n"
   ]
  },
  {
   "cell_type": "markdown",
   "metadata": {},
   "source": [
    "<a id='color_schemes'></a>\n",
    "# Color Schemes\n",
    "A good site to pick color schemes: https://learnui.design/tools/data-color-picker.html#palette\n",
    "### Diverging color Schemes"
   ]
  },
  {
   "cell_type": "code",
   "execution_count": 652,
   "metadata": {
    "scrolled": true
   },
   "outputs": [
    {
     "name": "stdout",
     "output_type": "stream",
     "text": [
      "['#6b6ecf', '#9c9ede', '#8ca252', '#cedb9c', '#bd9e39', '#e7ba52', '#843c39', '#d6616b', '#7b4173', '#ce6dbd']\n"
     ]
    },
    {
     "data": {
      "image/png": "[encoded data removed]",
      "text/plain": [
       "<Figure size 720x72 with 1 Axes>"
      ]
     },
     "metadata": {
      "needs_background": "light"
     },
     "output_type": "display_data"
    }
   ],
   "source": [
    "# original SARS-CoV-2 genomic coloring\n",
    "exn_cols = (np.linspace(0.1,0.9,10))\n",
    "print(sns.color_palette(plt.cm.tab20b(exn_cols)).as_hex())\n",
    "sns.palplot(plt.cm.tab20b(exn_cols))"
   ]
  },
  {
   "cell_type": "code",
   "execution_count": 654,
   "metadata": {},
   "outputs": [
    {
     "name": "stdout",
     "output_type": "stream",
     "text": [
      "['#91560d', '#c58e3d', '#e7cf94', '#f6eed9', '#dbefec', '#98d7cd', '#44a299', '#066b63']\n"
     ]
    },
    {
     "data": {
      "image/png": "[encoded data removed]",
      "text/plain": [
       "<Figure size 576x72 with 1 Axes>"
      ]
     },
     "metadata": {
      "needs_background": "light"
     },
     "output_type": "display_data"
    }
   ],
   "source": [
    "# built-in diverging color scheme\n",
    "print(sns.color_palette(\"BrBG\",8).as_hex())\n",
    "sns.palplot(sns.color_palette(\"BrBG\",8).as_hex())"
   ]
  },
  {
   "cell_type": "code",
   "execution_count": 655,
   "metadata": {
    "scrolled": true
   },
   "outputs": [
    {
     "name": "stdout",
     "output_type": "stream",
     "text": [
      "['#246aae', '#529dc8', '#a7d0e4', '#e1edf3', '#fae7dc', '#f7b799', '#dc6e57', '#b61f2e']\n"
     ]
    },
    {
     "data": {
      "image/png": "[encoded data removed]",
      "text/plain": [
       "<Figure size 576x72 with 1 Axes>"
      ]
     },
     "metadata": {
      "needs_background": "light"
     },
     "output_type": "display_data"
    }
   ],
   "source": [
    "# built-in diverging color scheme\n",
    "print(sns.color_palette(\"RdBu_r\",8).as_hex())\n",
    "sns.palplot(sns.color_palette(\"RdBu_r\",8).as_hex())"
   ]
  },
  {
   "cell_type": "code",
   "execution_count": 662,
   "metadata": {
    "scrolled": true
   },
   "outputs": [
    {
     "name": "stdout",
     "output_type": "stream",
     "text": [
      "['#668fe4', '#93b0ec', '#c2d2f4', '#f2f2f2', '#bbdec2', '#80c08e', '#47a35a']\n"
     ]
    },
    {
     "data": {
      "image/png": "[encoded data removed]",
      "text/plain": [
       "<Figure size 504x72 with 1 Axes>"
      ]
     },
     "metadata": {
      "needs_background": "light"
     },
     "output_type": "display_data"
    }
   ],
   "source": [
    "# custom diverging color scheme \n",
    "print(sns.diverging_palette(255, 133, l=60, n=7).as_hex())\n",
    "sns.palplot(sns.diverging_palette(255, 133, l=60, n=7).as_hex())"
   ]
  },
  {
   "cell_type": "code",
   "execution_count": 663,
   "metadata": {},
   "outputs": [
    {
     "name": "stdout",
     "output_type": "stream",
     "text": [
      "['#668fe4', '#4f6aa1', '#37435c', '#222222', '#2d4933', '#3a7647', '#47a35a']\n"
     ]
    },
    {
     "data": {
      "image/png": "[encoded data removed]",
      "text/plain": [
       "<Figure size 504x72 with 1 Axes>"
      ]
     },
     "metadata": {
      "needs_background": "light"
     },
     "output_type": "display_data"
    }
   ],
   "source": [
    "# custom diverging color scheme - dark center\n",
    "print(sns.diverging_palette(255, 133, l=60, n=7, center=\"dark\").as_hex())\n",
    "sns.palplot(sns.diverging_palette(255, 133, l=60, n=7, center=\"dark\").as_hex())"
   ]
  },
  {
   "cell_type": "markdown",
   "metadata": {},
   "source": [
    "### Gradient Color Schemes"
   ]
  },
  {
   "cell_type": "code",
   "execution_count": 682,
   "metadata": {
    "scrolled": false
   },
   "outputs": [
    {
     "name": "stdout",
     "output_type": "stream",
     "text": [
      "['#0ac49f', '#32ceaf', '#5bd7bf', '#83e1ce', '#abebde', '#d4f5ee', '#fcfefe']\n",
      "['#8b41b0', '#7d4fae', '#6f5eac', '#616caa', '#527ba9', '#4489a7', '#3697a5', '#28a6a3', '#1ab4a1', '#0cc29f']\n",
      "['#003f5c', '#2a4264', '#53466d', '#7d4975', '#a64c7e', '#d05086', '#dc5f6f', '#e47055', '#ec813a', '#f59220', '#fda305']\n",
      "['#b00ac4', '#6760dd', '#1db6f6', '#47ceba', '#b2c34e', '#ffaf07', '#ff8420', '#ff5939']\n",
      "['#00e8ba', '#20b6ae', '#3f84a2', '#5f5196']\n"
     ]
    },
    {
     "data": {
      "image/png": "[encoded data removed]",
      "text/plain": [
       "<Figure size 504x72 with 1 Axes>"
      ]
     },
     "metadata": {
      "needs_background": "light"
     },
     "output_type": "display_data"
    },
    {
     "data": {
      "image/png": "[encoded data removed]",
      "text/plain": [
       "<Figure size 720x72 with 1 Axes>"
      ]
     },
     "metadata": {
      "needs_background": "light"
     },
     "output_type": "display_data"
    },
    {
     "data": {
      "image/png": "[encoded data removed]",
      "text/plain": [
       "<Figure size 792x72 with 1 Axes>"
      ]
     },
     "metadata": {
      "needs_background": "light"
     },
     "output_type": "display_data"
    },
    {
     "data": {
      "image/png": "[encoded data removed]",
      "text/plain": [
       "<Figure size 576x72 with 1 Axes>"
      ]
     },
     "metadata": {
      "needs_background": "light"
     },
     "output_type": "display_data"
    },
    {
     "data": {
      "image/png": "[encoded data removed]",
      "text/plain": [
       "<Figure size 288x72 with 1 Axes>"
      ]
     },
     "metadata": {
      "needs_background": "light"
     },
     "output_type": "display_data"
    }
   ],
   "source": [
    "def make_gradient_color_scheme(size,color_ls):\n",
    "    '''\n",
    "    Output list of hex colors for color scheme also displays a plot of the color pallette \n",
    "    Inputs:\n",
    "        size = number of colors in color scheme\n",
    "        color_ls = list of colors to be used in making gradient\n",
    "            * can be any length < size\n",
    "            * if only one color is given other color in gradient will be set to white)\n",
    "    '''\n",
    "    norm = matplotlib.colors.Normalize(-1,1)\n",
    "    \n",
    "    if len(color_ls) == 1:\n",
    "        color_ls.append(\"#ffffff\")\n",
    "    grad_cols = [[norm(-1.0), color_ls[0]] ] # first already determined\n",
    "    if len(color_ls)>len(grad_cols)-1:\n",
    "        i=1\n",
    "        while i<len(color_ls)-1: \n",
    "            grad_cols.append([norm( i*(2/(len(color_ls)-1))+(-1)), color_ls[i]])\n",
    "            i+=1\n",
    "    grad_cols.append([norm(1.0), color_ls[-1]]) # last already determined\n",
    "    cmap = matplotlib.colors.LinearSegmentedColormap.from_list(\"\", grad_cols)\n",
    "    hex_cols = []\n",
    "    for i in range(cmap.N): \n",
    "        if i%int(cmap.N/size)==0: # cmp1.N is 256 \n",
    "            rgb = cmap(i)[:3] # will return rgba, we take only first 3 so we get rgb\n",
    "            hex_cols.append(matplotlib.colors.rgb2hex(rgb))\n",
    "    print(hex_cols)\n",
    "    sns.palplot(hex_cols)\n",
    "\n",
    "# Create color scheme from 1 color\n",
    "make_gradient_color_scheme(6,['#0ac49f'])  \n",
    "# Create color scheme from 2 colors\n",
    "make_gradient_color_scheme(9,[\"#8b41b0\",'#0ac49f'])\n",
    "# Create color scheme from 3 colors\n",
    "make_gradient_color_scheme(10,[\"#003f5c\",'#d45087','#ffa600'])  \n",
    "# Create color scheme from 4 colors\n",
    "make_gradient_color_scheme(7,[\"#b00ac4\",'#03d5ff','#ffbb00','#ff553b'])  \n",
    "# Create color scheme from 2 colors\n",
    "make_gradient_color_scheme(4,[\"#00e8ba\",'#7e208a'])    \n",
    "    \n"
   ]
  },
  {
   "cell_type": "markdown",
   "metadata": {},
   "source": [
    "<a id='plots'></a>\n",
    "# Various Plot Types\n",
    "## Bar\n",
    "## Box and Whisker\n",
    "## Scatter Plot\n",
    "## Histogram\n",
    "## Alignment Diagram\n",
    "## Weight Matrix\n"
   ]
  },
  {
   "cell_type": "markdown",
   "metadata": {},
   "source": [
    "<a id='gene_diagram'></a>\n",
    "# Gene Diagram"
   ]
  },
  {
   "cell_type": "code",
   "execution_count": 402,
   "metadata": {},
   "outputs": [],
   "source": [
    "import matplotlib.pyplot as plt\n",
    "import numpy as np\n",
    "import matplotlib\n",
    "\n",
    "\n",
    "\n",
    "class GeneImage(object):\n",
    "    def __init__(self, total_span, exon_intervals, exon_colors=[], marker_pos=[], marker_colors=[], homology_list=[]):\n",
    "        '''\n",
    "        **Required Inputs**\n",
    "        \n",
    "        total_span\n",
    "            type: integer\n",
    "            * length of the gene to be plotted (number of nucleotides)\n",
    "                Ex: total_span = 4560 # will draw gene of length 4560 nucleotides\n",
    "                \n",
    "                NOTE: all exon intervals must be within position 1 to total_span\n",
    "                NOTE: this script currently only supports two overlapping exons\n",
    "                \n",
    "        exon_intervals\n",
    "            type: 2D list of integers\n",
    "            * List of start and end positions (in nucleotides) of exons\n",
    "                Ex: exon_intervals = [[266, 567],[756, 800]] \n",
    "                   # will draw two exons: the first starting at position 266 and ending at position 567, the second starting at 756 and ending at position 800\n",
    "            \n",
    "            NOTE: put exon intervals in order (from first to last numerically) in this list to prevent issues with coloring properly\n",
    "            \n",
    "        **Optional Inputs**\n",
    "        \n",
    "        marker_pos\n",
    "            type: list of integers\n",
    "            * positions (in nucleotides) of where to put the marker (arrows) within the exon intervals # TODO: update if fix this\n",
    "            Ex: marker_positions = [874,956,2290] # will place arrows at positions 874,956, and 2290 in the gene diagram\n",
    "            \n",
    "            NOTE: marker positions must be within the exon intervals\n",
    "        \n",
    "        exon_colors\n",
    "            type: list of Strings (colors)\n",
    "            * provide a list of colors to color each exon\n",
    "            * if no colors are provided will set them automatically\n",
    "            NOTE: length of exon_colors must equal length of exon_intervals\n",
    "            \n",
    "        marker_colors \n",
    "            type: list of Strings (colors)\n",
    "            * To set all marker colors to a single color:\n",
    "                Set this value to a list of length 1 containing that color\n",
    "                \n",
    "                Ex: marker_colors = [\"blue\"] # will set all marker colors to blue\n",
    "                \n",
    "            * To set some markers to a specific color:\n",
    "                Create a list of colors that is the same length as your list of marker_pos, change the color of\n",
    "                the value in the list position that corridnates with the marker position.\n",
    "                \n",
    "                Ex: marker_colors = [\"grey\",\"grey\",\"red\",\"grey\",\"green\",\"red\"], marker_pos = [8744,6059,2290,9679,11594,8201] # all markers but the 3rd and 5th marker will be grey, the 3rd marker will be red, the fifth marker will be blue\n",
    "        \n",
    "        homologyList\n",
    "            type: list of integers\n",
    "            * list of integer values from 0 to 100 indicating the homology to be used for coloring arrows by homology\n",
    "                A value of 0 indicates 0% homology at that position\n",
    "                A value of 100 indicates 100% homology at that position\n",
    "                \n",
    "            NOTE: length of homology list must be the same as the length for marker_pos \n",
    "            \n",
    "            \n",
    "        Method modified from: https://gist.github.com/parashardhapola/e095e3ebd068c90e7089b53e46b8e0bc\n",
    "        Original Author: Parashar Dhapola\n",
    "        '''\n",
    "        \n",
    "        # sort exon_intervals\n",
    "        exon_intervals.sort()\n",
    "        \n",
    "        self.totalSpan = total_span # user input\n",
    "        self.exonIntervals = exon_intervals # user input\n",
    "        \n",
    "        self.markerPositions = marker_pos # optional input\n",
    "        self.markerColors = marker_colors # optional input \n",
    "        self.homologyList = homology_list # optional input\n",
    "        self.exonColors = exon_colors # optional input\n",
    "        \n",
    "        self.exonOverlay = self._find_exon_overlap(self.exonIntervals)\n",
    "        \n",
    "        self.markerHeights = []\n",
    "        self.markerSize = 200\n",
    "        self.MarkerWeight = 1.5\n",
    "        self.exonColor = \"black\"\n",
    "        self.intronColor = \"black\"\n",
    "        self.maxGrad = \"#00bfc9\"\n",
    "        self.intronWeight = 0\n",
    "        self.intronStyle = '-'\n",
    "        self.barColor= \"black\"\n",
    "        self.bgColor = \"white\"\n",
    "        self.markerDefaultColor = '#858585'\n",
    "        self.markerEdgeDefaultColor = \"black\"\n",
    "        self.numExons = len(self.exonIntervals)\n",
    "        self.minExonLen = self.totalSpan*0.005\n",
    "        self.ylims = {'exon_max': 2, 'exon_min':1}\n",
    "        self.figure, self.canvas = plt.subplots(figsize=(30,5))\n",
    "        self.canvas.set_facecolor(self.bgColor)\n",
    "        self._draw()\n",
    "\n",
    "    def _set_limits(self):\n",
    "        self.ylims['intron_max'] = self.ylims['exon_max']*0.25\n",
    "        self.ylims['intron_min'] = (self.ylims['exon_max'] + self.ylims['exon_min'])/2.0\n",
    "        self.ylims['bar_min'] = self.ylims['exon_max']-0.6\n",
    "        self.ylims['bar_max'] = self.ylims['bar_min']+(self.ylims['exon_max']-self.ylims['exon_min'])/5.0\n",
    "        \n",
    "    def _find_exon_overlap(self,exon_intervals):\n",
    "        # takes a SORTED list of exon_intervals and looks for overlapping exons to ensure properly staggered in the diagram\n",
    "        exon_overlap_ls = [0] # keeps track of overlapping exons, if 0, no overlap, >1 indicates number of overlaps\n",
    "        exon_overlap_ct = 0\n",
    "        # start at 2nd exon\n",
    "        i = 1\n",
    "        exon_end_pos = exon_intervals[0][-1]\n",
    "        while i<len(exon_intervals):\n",
    "            # look for overlap in the exon with the previous exon\n",
    "            # overlap if this intron's start position is less than the previous intron's end position\n",
    "            if (exon_intervals[i][0] < exon_end_pos):\n",
    "                # exons overlap\n",
    "                exon_overlap_ct+=1\n",
    "                # new exon_end_pos will be set if this exon ends past previous\n",
    "                exon_end_pos = max(exon_end_pos,exon_intervals[i][-1])\n",
    "            else:\n",
    "                # no overlap\n",
    "                exon_overlap_ct = 0 # resets the count (in event it increased from previous exons)\n",
    "                exon_end_pos = exon_intervals[i][-1]\n",
    "            exon_overlap_ls.append(exon_overlap_ct)\n",
    "            i+=1\n",
    "\n",
    "        # Update exon intervals list to accomodate any overlaps\n",
    "        #    For any overlaps puts largest exon in the back (positions it so largest exon is first in updated_exon_intervals list)\n",
    "        updated_exon_intervals = []\n",
    "        i = 0\n",
    "        while i<len(exon_intervals):\n",
    "            # check if exon has an overlap (if value is greater than 0 there is an overlap)\n",
    "            if exon_overlap_ls[i] > 0: \n",
    "                # look at previous exon and see if it is larger if so make it first in updated_exon_intervals\n",
    "                if ((exon_intervals[i-1][0]-exon_intervals[i-1][-1])>(exon_intervals[i][0]-exon_intervals[i][-1])):\n",
    "                    # swap positions in updated_exon_intervals list:\n",
    "                    # update previous position to current\n",
    "                    updated_exon_intervals[-1] = exon_intervals[i]\n",
    "                    # update current position to previous \n",
    "                    updated_exon_intervals.append(exon_intervals[i-1])\n",
    "                else:\n",
    "                    updated_exon_intervals.append(exon_intervals[i])\n",
    "            else:\n",
    "                updated_exon_intervals.append(exon_intervals[i])\n",
    "            i+=1\n",
    "        \n",
    "        self.exonIntervals = updated_exon_intervals #  updates exon intervals\n",
    "        return exon_overlap_ls\n",
    "                \n",
    "    \n",
    "    def _transform_spans(self):\n",
    "        span_lens = [x[1]-x[0] for x in self.exonIntervals]\n",
    "        max_len = float(max(span_lens))\n",
    "        transformed_intervals = []\n",
    "        if max_len < self.minExonLen:\n",
    "            span_ratios = [x/max_len for x in span_lens]\n",
    "            expansion_factor = self.totalSpan*1e-11\n",
    "            for i in range(1,10):\n",
    "                ef = (2**i)*expansion_factor\n",
    "                if max_len+ef > self.minExonLen:\n",
    "                    expansion_factor = ef\n",
    "                    break\n",
    "            for i,j in zip(self.exonIntervals, span_ratios):\n",
    "                mid = (i[0] + i[1])/2\n",
    "                f = (expansion_factor*j)/2\n",
    "                if mid+f - mid-f > self.minExonLen:\n",
    "                    transformed_intervals.append([mid-f, mid+f])\n",
    "                else:\n",
    "                    transformed_intervals.append([mid-(self.minExonLen/2), mid+(self.minExonLen/2)])\n",
    "        else:\n",
    "            for i in range(self.numExons):\n",
    "                if span_lens[i] < self.minExonLen:\n",
    "                    mid = (self.exonIntervals[i][0] + self.exonIntervals[i][0])/2 \n",
    "                    transformed_intervals.append([mid-(self.minExonLen/2), mid+(self.minExonLen/2)])\n",
    "                else:\n",
    "                    transformed_intervals.append(self.exonIntervals[i])\n",
    "        self.exonIntervals = transformed_intervals[:]\n",
    "        \n",
    "    def _draw_exon(self, span,col):\n",
    "        self.canvas.fill_between(span, self.ylims['exon_min']+.2, self.ylims['exon_max']-.2,\n",
    "                                 edgecolor=self.bgColor, facecolor=col)\n",
    "        return True\n",
    "    \n",
    "    def _draw_staggered_exon(self, span,col):\n",
    "        self.canvas.fill_between(span, self.ylims['exon_min']-.1+.2, self.ylims['exon_max']-.1-.2,\n",
    "                                 edgecolor=self.bgColor, facecolor=col)\n",
    "        return True\n",
    "        \n",
    "    def _draw_intron(self, span):\n",
    "        mid = (span[0]+span[1])/2.0\n",
    "        self.canvas.plot([span[0], mid], [self.ylims['intron_min'], self.ylims['intron_max']],\n",
    "                         c=self.intronColor, lw=self.intronWeight, ls=self.intronStyle)\n",
    "        self.canvas.plot([mid, span[1]], [self.ylims['intron_max'], self.ylims['intron_min']],\n",
    "                         c=self.intronColor, lw=self.intronWeight, ls=self.intronStyle)\n",
    "        return True\n",
    "    \n",
    "    def _draw_markers(self):\n",
    "        if self.markerHeights == []:\n",
    "            self.markerHeights = [self.ylims['exon_max']-self.ylims['exon_min'] for x in self.markerPositions]\n",
    "        if self.markerColors == []:\n",
    "            self.markerColors = [self.markerDefaultColor for x in self.markerPositions]\n",
    "        if self.homologyList == []:\n",
    "            cmp1 = matplotlib.colors.LinearSegmentedColormap.from_list(\"\", self.markerColors)\n",
    "            self.canvas.scatter(self.markerPositions, [x+0.84 for x in self.markerHeights], \n",
    "                c = self.markerColors,\n",
    "                s=self.markerSize, marker='v', cmap=cmp1,\n",
    "                linewidths=1,edgecolors=self.markerEdgeDefaultColor, alpha=1)\n",
    "        else:\n",
    "            # If user inputs a list of homology values then will color arrows by homology with a color gradient\n",
    "            norm = matplotlib.colors.Normalize(-1,1)\n",
    "            grad_colrs = [[norm(-1.0), \"white\"],[norm( 1.0), self.maxGrad]]\n",
    "            cmp1 = matplotlib.colors.LinearSegmentedColormap.from_list(\"\", grad_colrs)\n",
    "            # NOTE: 0.84 was an arbitrary number selected to ensure arrow labels show up at correct point on Exon bars\n",
    "            self.canvas.scatter(self.markerPositions, [x+0.84 for x in self.markerHeights], \n",
    "                    # homology list\n",
    "                    c = self.homologyList,\n",
    "                    s=self.markerSize, marker='v', cmap=cmp1,\n",
    "                    linewidths=1,edgecolors=self.markerEdgeDefaultColor, alpha=1)\n",
    "    \n",
    "    def _clean_axes(self):\n",
    "        self.canvas.set_yticks([], [])\n",
    "        self.canvas.get_xaxis().tick_top()\n",
    "        self.canvas.tick_params(axis='x', direction='out')\n",
    "        self.canvas.set_xticks([])\n",
    "        for o in [\"top\", \"bottom\", \"left\", \"right\"]:\n",
    "            self.canvas.spines[o].set_visible(False)\n",
    "        min_pos = 0\n",
    "        if min_pos < 0:\n",
    "            min_pos = 0\n",
    "        max_pos = self.totalSpan#int(self.exonIntervals[-1][1] + self.totalSpan * 0.1)\n",
    "        minortick_pos = [int(x) for x in range(0, self.totalSpan, int((0-self.totalSpan)/20))][1:]\n",
    "        \n",
    "    def _draw(self):\n",
    "        self._set_limits()\n",
    "        self._transform_spans()\n",
    "        \n",
    "        # exon colors\n",
    "        # if user provided list of exon colors will use them if they are the correct length\n",
    "        if(self.exonColors == []):\n",
    "            exn_cols = plt.cm.tab20b(np.linspace(0.1,0.9,len(self.exonIntervals)+1)) \n",
    "        elif(len(self.exonColors)<len(self.exonIntervals)):\n",
    "            print(\"WARNING: not enough exon colors chosen will use default exon coloring\")\n",
    "            exn_cols = plt.cm.tab20b(np.linspace(0.1,0.9,len(self.exonIntervals)+1)) \n",
    "        else:\n",
    "            exn_cols = self.exonColors\n",
    "        self.canvas.fill_between([0,self.totalSpan ],\n",
    "                                  self.ylims['bar_min'], self.ylims['bar_max'],\n",
    "                                  edgecolor=self.bgColor, facecolor=self.barColor)\n",
    "\n",
    "    \n",
    "        for i in range(self.numExons):\n",
    "            # draw introns\n",
    "            if i > 0: \n",
    "                self._draw_intron([self.exonIntervals[i-1][1], self.exonIntervals[i][0]])\n",
    "            # draw exons\n",
    "            # check if exons overlap for this interval\n",
    "            if self.exonOverlay[i] > 0:\n",
    "                self._draw_staggered_exon(self.exonIntervals[i],exn_cols[i])\n",
    "            else:\n",
    "                self._draw_exon(self.exonIntervals[i],exn_cols[i])\n",
    "        \n",
    "        if(self.markerPositions != []):\n",
    "            self._draw_markers()\n",
    "        self._clean_axes()\n",
    "    \n",
    "    def show(self):\n",
    "        plt.show()\n",
    "        \n",
    "    def save(self,file_name):\n",
    "        plt.savefig(file_name+\".eps\", format='eps',transparent=True)\n",
    "        print(\"File saved to: \",file_name+\".eps\" )\n",
    "        \n",
    "\n",
    "# TODO: move arrows because with overlaps will have gaps, also want to work with introns\n",
    "# TODO: try different gene maps - make examples (simpler ones too), examples of single gene exons/introns\n",
    "# TODO: we had other figures we made for gene maps (at bottom of other file)\n",
    "# TODO: check that have enough colors for large genes, auto-create gradient/color scheme otherwise\n",
    "\n"
   ]
  },
  {
   "cell_type": "markdown",
   "metadata": {},
   "source": [
    "## Example 1:\n",
    "* minimal required inputs"
   ]
  },
  {
   "cell_type": "code",
   "execution_count": 668,
   "metadata": {
    "scrolled": true
   },
   "outputs": [
    {
     "name": "stdout",
     "output_type": "stream",
     "text": [
      "File saved to:  gene_minimal.eps\n"
     ]
    },
    {
     "data": {
      "image/png": "[encoded data removed]",
      "text/plain": [
       "<Figure size 2160x360 with 1 Axes>"
      ]
     },
     "metadata": {},
     "output_type": "display_data"
    }
   ],
   "source": [
    "gene = GeneImage(total_span=1000,\n",
    "                 exon_intervals=[[100,160],[200,400],[500,576],[600,950]],\n",
    "                )\n",
    "# save file\n",
    "gene.save(\"gene_minimal\")\n"
   ]
  },
  {
   "cell_type": "markdown",
   "metadata": {},
   "source": [
    "## Example 2:\n",
    "* position markers"
   ]
  },
  {
   "cell_type": "code",
   "execution_count": 672,
   "metadata": {},
   "outputs": [
    {
     "name": "stdout",
     "output_type": "stream",
     "text": [
      "File saved to:  gene_with_markers.eps\n"
     ]
    },
    {
     "data": {
      "image/png": "[encoded data removed]",
      "text/plain": [
       "<Figure size 2160x360 with 1 Axes>"
      ]
     },
     "metadata": {},
     "output_type": "display_data"
    }
   ],
   "source": [
    "# PTEN (NM_001304717)\n",
    "gene = GeneImage(total_span=1000,\n",
    "                 exon_intervals=[[100,160],[200,400],[500,576],[600,950]],\n",
    "                 marker_pos = [135,156,224,356,342,505,675,689,765,793,902,946],\n",
    "                )\n",
    "# save file\n",
    "gene.save(\"gene_with_markers\")\n"
   ]
  },
  {
   "cell_type": "markdown",
   "metadata": {},
   "source": [
    "## Example 3:\n",
    "* position markers with custom colors"
   ]
  },
  {
   "cell_type": "code",
   "execution_count": 685,
   "metadata": {
    "scrolled": false
   },
   "outputs": [
    {
     "name": "stdout",
     "output_type": "stream",
     "text": [
      "File saved to:  gene_with_colored_markers.eps\n"
     ]
    },
    {
     "data": {
      "image/png": "[encoded data removed]",
      "text/plain": [
       "<Figure size 2160x360 with 1 Axes>"
      ]
     },
     "metadata": {},
     "output_type": "display_data"
    }
   ],
   "source": [
    "gene = GeneImage(total_span=1000,\n",
    "                 exon_intervals=[[100,160],[200,400],[500,576],[600,950]],\n",
    "                 marker_pos = [135,156,224,356,342,505,675,689,765,793,902,946],\n",
    "                 marker_colors = ['cyan','grey', 'grey', 'grey','magenta', 'grey', 'grey', 'grey', 'cyan','grey', 'grey','lime'],\n",
    "                )\n",
    "\n",
    "# save file\n",
    "gene.save(\"gene_with_colored_markers\")"
   ]
  },
  {
   "cell_type": "markdown",
   "metadata": {},
   "source": [
    "## Example 4:\n",
    "* custom exon colors"
   ]
  },
  {
   "cell_type": "code",
   "execution_count": 687,
   "metadata": {},
   "outputs": [
    {
     "name": "stdout",
     "output_type": "stream",
     "text": [
      "File saved to:  gene_with_custom_exon_colors.eps\n"
     ]
    },
    {
     "data": {
      "image/png": "[encoded data removed]",
      "text/plain": [
       "<Figure size 2160x360 with 1 Axes>"
      ]
     },
     "metadata": {},
     "output_type": "display_data"
    }
   ],
   "source": [
    "gene = GeneImage(total_span=1000,\n",
    "                 exon_intervals=[[100,160],[200,400],[500,576],[600,950]],\n",
    "                 exon_colors = ['#00e8ba', '#20b6ae', '#3f84a2', '#5f5196'],\n",
    "                 marker_pos = [135,156,224,356,342,505,675,689,765,793,902,946],\n",
    "                )\n",
    "# save file\n",
    "gene.save(\"gene_with_custom_exon_colors\")"
   ]
  },
  {
   "cell_type": "markdown",
   "metadata": {},
   "source": [
    "## Example 5:\n",
    "* real gene\n",
    "* markers indicate siRNA target positions that target mouse"
   ]
  },
  {
   "cell_type": "code",
   "execution_count": 667,
   "metadata": {},
   "outputs": [
    {
     "name": "stdout",
     "output_type": "stream",
     "text": [
      "File saved to:  PTEN_gene_colored_markers.eps\n"
     ]
    },
    {
     "data": {
      "image/png": "[encoded data removed]",
      "text/plain": [
       "<Figure size 2160x360 with 1 Axes>"
      ]
     },
     "metadata": {},
     "output_type": "display_data"
    }
   ],
   "source": [
    "# PTEN (NM_001304717)\n",
    "gene = GeneImage(total_span=abs(87863625-87971930), \n",
    "                 exon_intervals=[[1,924],[30401,30485],[61889,61933],[67422,67465],[69389,69627],[88494,88635],[94229,94395],[97270,97494],[101663,108306]],\n",
    "                 marker_pos = [103117, 105933, 106169, 103796, 107565, 103795, 104223, 108104, 107051, 105724, 103060, 101676, 61904, 94386, 102034, 104216, 101677, 61905, 105120],\n",
    "                 marker_colors = ['grey', 'grey', 'grey', 'grey', 'grey', 'grey', 'grey', 'grey', 'grey', 'grey', 'grey',\n",
    "                                  'red', 'red', 'red', 'red', 'red', 'red', 'red', 'red'\n",
    "                                 ], # color those that target mouse\n",
    "                )\n",
    "# save file\n",
    "gene.save(\"PTEN_gene_colored_markers\")"
   ]
  },
  {
   "cell_type": "markdown",
   "metadata": {},
   "source": [
    "## Example 6:\n",
    "* Viral Genome\n",
    "* position markers\n",
    "* custom exon (gene) colors"
   ]
  },
  {
   "cell_type": "code",
   "execution_count": 526,
   "metadata": {},
   "outputs": [
    {
     "name": "stdout",
     "output_type": "stream",
     "text": [
      "File saved to:  mers-cov_genome.eps\n"
     ]
    },
    {
     "data": {
      "image/png": "[encoded data removed]",
      "text/plain": [
       "<Figure size 2160x360 with 1 Axes>"
      ]
     },
     "metadata": {},
     "output_type": "display_data"
    }
   ],
   "source": [
    "# MERS genome* (Accession: KT029139)\n",
    "gene = GeneImage(total_span=30108, \n",
    "                 # *NOTE: this is missing exons [25852,26181] and [25532,25843], and exon [21516,25517] is actually [21456,25517]\n",
    "                 exon_intervals=[[279,21514],[279,13454],[21516,25517],[26093,26833],[26840,27514],[27590,27838],[27853,28512],[28566,29807]], \n",
    "                 exon_colors=['#003f5c','#4a839e','#665191','#a05195','#d45087','#f95d6a','#ff7c43','#ffa600'],\n",
    "                 marker_pos=[416, 6322, 8200, 9679, 14080, 15376, 17370, 20497, 21944, 22820, 23239, 24056, 25413, 26277, 26369, 26463, 26573, 26624, 26693, 27032, 27455, 27656, 27715, 27932, 28002, 28119, 28163, 28407, 28992, 29292, 29307],\n",
    "                )\n",
    "# save file\n",
    "gene.save(\"mers-cov_genome\")\n"
   ]
  },
  {
   "cell_type": "markdown",
   "metadata": {},
   "source": [
    "## Example 7:\n",
    "* Viral Genome\n",
    "* position markers\n",
    "* custom exon (gene) colors\n",
    "* position markers colored by homology\n"
   ]
  },
  {
   "cell_type": "code",
   "execution_count": 531,
   "metadata": {},
   "outputs": [
    {
     "name": "stdout",
     "output_type": "stream",
     "text": [
      "File saved to:  mers-cov_genome_colored_by_homology.eps\n"
     ]
    },
    {
     "data": {
      "image/png": "[encoded data removed]",
      "text/plain": [
       "<Figure size 2160x360 with 1 Axes>"
      ]
     },
     "metadata": {},
     "output_type": "display_data"
    }
   ],
   "source": [
    "# MERS genome* (Accession: KT029139)\n",
    "gene = GeneImage(total_span=30108, \n",
    "                 # *NOTE: this is missing exons [25852,26181] and [25532,25843], and exon [21516,25517] is actually [21456,25517]\n",
    "                 exon_intervals=[[279,21514],[279,13454],[21516,25517],[26093,26833],[26840,27514],[27590,27838],[27853,28512],[28566,29807]], \n",
    "                 exon_colors=['#003f5c','#4a839e','#665191','#a05195','#d45087','#f95d6a','#ff7c43','#ffa600'],\n",
    "                 marker_pos=[416, 6322, 8200, 9679, 14080, 15376, 17370, 20497, 21944, 22820, 23239, 24056, 25413, 26277, 26369, 26463, 26573, 26624, 26693, 27032, 27455, 27656, 27715, 27932, 28002, 28119, 28163, 28407, 28992, 29292, 29307],\n",
    "                 # homology_list: list of integers with values from 0 to 100 with 100 being highest homology 0 being no homology\n",
    "                 homology_list = [97, 27, 70, 28, 39, 93, 77, 27, 49, 59, 19, 8, 9, 25, 50, 98, 62, 36, 79, 84, 71, 66, 1, 34, 71, 69, 1, 94, 40, 37, 81],\n",
    "                )\n",
    "# save file\n",
    "gene.save(\"mers-cov_genome_colored_by_homology\")\n"
   ]
  },
  {
   "cell_type": "markdown",
   "metadata": {},
   "source": [
    "<a id='etc'></a>\n",
    "# Additional Useful Methods"
   ]
  },
  {
   "cell_type": "markdown",
   "metadata": {},
   "source": [
    "### Convert siRNA target positions to Genomic Positions"
   ]
  },
  {
   "cell_type": "code",
   "execution_count": 472,
   "metadata": {
    "scrolled": true
   },
   "outputs": [
    {
     "name": "stdout",
     "output_type": "stream",
     "text": [
      "Genomic marker positions:\n",
      "[103117, 105933, 106169, 103796, 107565, 103795, 104223, 108104, 107051, 105724, 103060, 101676, 61904, 94386, 102034, 104216, 101677, 61905, 105120]\n"
     ]
    }
   ],
   "source": [
    "def get_genomic_positions(exon_intervals,marker_pos):\n",
    "    ''' \n",
    "    Converts siRNA target positions to genomic positions\n",
    "    \n",
    "    Inputs:\n",
    "        exon_intervals \n",
    "            list of exon intervals (2D list of integers)\n",
    "        marker_pos\n",
    "            list of marker positions (list of integers)\n",
    "    '''\n",
    "    coding_intervals = [[1,abs(exon_intervals[0][0]-exon_intervals[0][-1])]] # add first exon \n",
    "    for e in exon_intervals[1:]: # skip first exon\n",
    "        diff = abs(e[0]-e[-1])\n",
    "        coding_intervals.append([coding_intervals[-1][-1]+1,diff+(coding_intervals[-1][-1]+1)])\n",
    "\n",
    "\n",
    "    # for each marker position, determines which exon it belongs to then adds the appropriate distance in genomic DNA sequence\n",
    "    genomic_marker_pos = []\n",
    "    for m in marker_pos:\n",
    "        i=0\n",
    "        while i<len(coding_intervals):\n",
    "            if (m>=coding_intervals[i][0] and m<=coding_intervals[i][-1]):\n",
    "                # it is in this exon\n",
    "                genomic_marker_pos.append(exon_intervals[i][0]-coding_intervals[i][0]+m)\n",
    "                i=len(coding_intervals)\n",
    "            i+=1\n",
    "\n",
    "    if (len(genomic_marker_pos ) != len(marker_pos)):\n",
    "        print(\"ERROR: there was an issue converting genomic and marker positions\")\n",
    "    \n",
    "    print(\"Genomic marker positions:\")\n",
    "    print(genomic_marker_pos)\n",
    "\n",
    "get_genomic_positions(exon_intervals=[[1,924],[30401,30485],[61889,61933],[67422,67465],[69389,69627],[88494,88635],[94229,94395],[97270,97494],[101663,108306]],\n",
    "                      marker_pos = [3325, 6141, 6377, 4004, 7773, 4003, 4431, 8312, 7259, 5932, 3268, 1884, 1024, 1636, 2242, 4424, 1885, 1025, 5328]\n",
    "                     )\n"
   ]
  },
  {
   "cell_type": "markdown",
   "metadata": {},
   "source": [
    "[Return to Top of Page](#top)"
   ]
  },
  {
   "cell_type": "code",
   "execution_count": null,
   "metadata": {},
   "outputs": [],
   "source": []
  }
 ],
 "metadata": {
  "kernelspec": {
   "display_name": "Python 3",
   "language": "python",
   "name": "python3"
  },
  "language_info": {
   "codemirror_mode": {
    "name": "ipython",
    "version": 3
   },
   "file_extension": ".py",
   "mimetype": "text/x-python",
   "name": "python",
   "nbconvert_exporter": "python",
   "pygments_lexer": "ipython3",
   "version": "3.7.6"
  }
 },
 "nbformat": 4,
 "nbformat_minor": 4
}
