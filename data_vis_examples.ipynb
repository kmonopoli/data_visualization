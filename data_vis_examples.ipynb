{
 "cells": [
  {
   "cell_type": "markdown",
   "metadata": {},
   "source": [
    "# Go through ALL TODO's!!"
   ]
  },
  {
   "cell_type": "markdown",
   "metadata": {},
   "source": [
    "# Color Schemes"
   ]
  },
  {
   "cell_type": "code",
   "execution_count": 82,
   "metadata": {},
   "outputs": [
    {
     "data": {
      "text/plain": [
       "array([0.1       , 0.18888889, 0.27777778, 0.36666667, 0.45555556,\n",
       "       0.54444444, 0.63333333, 0.72222222, 0.81111111, 0.9       ])"
      ]
     },
     "execution_count": 82,
     "metadata": {},
     "output_type": "execute_result"
    },
    {
     "data": {
      "image/png": "[encoded data removed]",
      "text/plain": [
       "<Figure size 720x72 with 1 Axes>"
      ]
     },
     "metadata": {
      "needs_background": "light"
     },
     "output_type": "display_data"
    }
   ],
   "source": [
    "exn_cols = (np.linspace(0.1,0.9,10))\n",
    "sns.color_palette(plt.cm.tab20b(exn_cols))#.as_hex()\n",
    "\n",
    "\n",
    "# sns.palplot(['#370042','#600073',\"#980070\",\"#c60065\",\"#e92a55\",\"#ff5a40\",\"#ff8827\",\"#ffb600\",\"#ffe300\",\"#fff89c\"])\n",
    "\n",
    "sns.color_palette(['#370042','#600073',\"#980070\",\"#c60065\",\"#e92a55\",\"#ff5a40\",\"#ff8827\",\"#ffb600\",\"#ffe300\",\"#fff89c\"])\n",
    "sns.palplot(plt.cm.tab20b(exn_cols))\n",
    "\n",
    "exn_cols\n",
    "\n"
   ]
  },
  {
   "cell_type": "code",
   "execution_count": null,
   "metadata": {},
   "outputs": [],
   "source": [
    "np.linspace(0.1,0.9,10)"
   ]
  },
  {
   "cell_type": "code",
   "execution_count": 85,
   "metadata": {},
   "outputs": [
    {
     "name": "stdout",
     "output_type": "stream",
     "text": [
      "['#6b6ecf', '#9c9ede', '#8ca252', '#cedb9c', '#bd9e39', '#e7ba52', '#843c39', '#d6616b', '#7b4173', '#ce6dbd']\n"
     ]
    },
    {
     "data": {
      "image/png": "[encoded data removed]",
      "text/plain": [
       "<Figure size 720x72 with 1 Axes>"
      ]
     },
     "metadata": {
      "needs_background": "light"
     },
     "output_type": "display_data"
    }
   ],
   "source": [
    "# Set up color Pallette for plotting\n",
    "from matplotlib.colors import ListedColormap\n",
    "from matplotlib import cm\n",
    "import seaborn as sns\n",
    "import matplotlib.pyplot as plt\n",
    "import matplotlib\n",
    "import numpy as np\n",
    "\n",
    "    \n",
    "# For plotting:\n",
    "%matplotlib inline\n",
    "\n",
    "\n",
    "\n",
    "custom_colors = plt.cm.tab20b(np.linspace(0.1,0.9,10))\n",
    "\n",
    "# Set your custom color palette\n",
    "customPalette = sns.set_palette(sns.color_palette(custom_colors))\n",
    "# convert seaborn color schemes to matplotlib colormaps\n",
    "# color_map = ListedColormap(color_scheme.as_hex()) \n",
    "# Show color Pallete\n",
    "sns.palplot(custom_colors)\n",
    "\n",
    "red_theme = \"#3498db\"\n",
    "blue_theme = \"#eba044\"\n",
    "\n",
    "# print(\"theme_1 color:\")\n",
    "# sns.palplot(red_theme)\n",
    "\n",
    "# print(\"theme_2 color:\")\n",
    "# sns.palplot(blue_theme)\n",
    "\n",
    "\n",
    "ls = sns.color_palette(custom_colors).as_hex()\n",
    "print(ls)\n",
    "# https://learnui.design/tools/data-color-picker.html\n"
   ]
  },
  {
   "cell_type": "markdown",
   "metadata": {},
   "source": [
    "# Various Plot Types\n",
    "## Bar\n",
    "## Box and Whisker\n",
    "## Scatter Plot\n",
    "## Histogram\n",
    "## Alignment Diagram\n",
    "## Weight Matrix\n",
    "# Image File Types (vector)\n"
   ]
  },
  {
   "cell_type": "markdown",
   "metadata": {},
   "source": [
    "# Gene Diagram"
   ]
  },
  {
   "cell_type": "code",
   "execution_count": null,
   "metadata": {},
   "outputs": [],
   "source": []
  },
  {
   "cell_type": "code",
   "execution_count": 309,
   "metadata": {},
   "outputs": [],
   "source": [
    "import matplotlib.pyplot as plt\n",
    "import numpy as np\n",
    "import matplotlib\n",
    "\n",
    "\n",
    "\n",
    "class GeneImage(object):\n",
    "    def __init__(self, total_span, exon_intervals, marker_pos=[], marker_colors=[], homology_list=[]):\n",
    "        '''\n",
    "        **Required Inputs**\n",
    "        \n",
    "        total_span\n",
    "            type: integer\n",
    "            * length of the gene to be plotted (number of nucleotides)\n",
    "                Ex: total_span = 4560 # will draw gene of length 4560 nucleotides\n",
    "                \n",
    "                NOTE: all exon intervals must be within position 1 to total_span\n",
    "                \n",
    "        exon_intervals\n",
    "            type: 2D list of integers\n",
    "            * List of start and end positions (in nucleotides) of exons\n",
    "                Ex: exon_intervals = [[266, 567],[756, 800]] \n",
    "                   # will draw two exons: the first starting at position 266 and ending at position 567, the second starting at 756 and ending at position 800\n",
    "            \n",
    "            NOTE: put exon intervals in order (from first to last numerically) in this list to prevent issues with coloring properly\n",
    "            \n",
    "        **Optional Inputs**\n",
    "        \n",
    "        marker_pos\n",
    "            type: list of integers\n",
    "            * positions (in nucleotides) of where to put the marker (arrows) within the exon intervals # TODO: update if fix this\n",
    "            Ex: marker_positions = [874,956,2290] # will place arrows at positions 874,956, and 2290 in the gene diagram\n",
    "            \n",
    "            NOTE: marker positions must be within the exon intervals\n",
    "        \n",
    "        marker_colors \n",
    "            type: list of Strings (colors)\n",
    "            * To set all marker colors to a single color:\n",
    "                Set this value to a list of length 1 containing that color\n",
    "                \n",
    "                Ex: marker_colors = [\"blue\"] # will set all marker colors to blue\n",
    "                \n",
    "            * To set some markers to a specific color:\n",
    "                Create a list of colors that is the same length as your list of marker_pos, change the color of\n",
    "                the value in the list position that corridnates with the marker position.\n",
    "                \n",
    "                Ex: marker_colors = [\"grey\",\"grey\",\"red\",\"grey\",\"green\",\"red\"], marker_pos = [8744,6059,2290,9679,11594,8201] # all markers but the 3rd and 5th marker will be grey, the 3rd marker will be red, the fifth marker will be blue\n",
    "        \n",
    "        homologyList\n",
    "            type: list of integers\n",
    "            * list of integer values from 0 to 100 indicating the homology to be used for coloring arrows by homology\n",
    "                A value of 0 indicates 0% homology at that position\n",
    "                A value of 100 indicates 100% homology at that position\n",
    "                \n",
    "            NOTE: length of homology list must be the same as the length for marker_pos \n",
    "            \n",
    "            \n",
    "        Method modified from: https://gist.github.com/parashardhapola/e095e3ebd068c90e7089b53e46b8e0bc\n",
    "        Original Author: Parashar Dhapola\n",
    "        '''\n",
    "        \n",
    "        # sort exon_intervals\n",
    "        exon_intervals.sort()\n",
    "        # TODO: make so can put markers in introns\n",
    "        self.totalSpan = total_span # user input\n",
    "        self.exonIntervals = exon_intervals # user input\n",
    "        \n",
    "        self.markerPositions = marker_pos # optional input\n",
    "        self.markerColors = marker_colors # optional input \n",
    "        self.homologyList = homology_list # optional input\n",
    "        \n",
    "        self.exonOverlay = self._find_exon_overlap(self.exonIntervals)\n",
    "        \n",
    "        self.markerHeights = []\n",
    "        self.markerSize = 200\n",
    "        self.MarkerWeight = 1.5\n",
    "        self.exonColor = \"black\"\n",
    "        self.intronColor = \"black\"\n",
    "        self.intronWeight = 0\n",
    "        self.intronStyle = '-'\n",
    "        self.barColor= \"black\"\n",
    "        self.bgColor = \"white\"\n",
    "        self.markerDefaultColor = '#858585'\n",
    "        self.markerEdgeDefaultColor = \"black\"\n",
    "        self.numExons = len(self.exonIntervals)\n",
    "        self.minExonLen = self.totalSpan*0.005\n",
    "        self.ylims = {'exon_max': 2, 'exon_min':1}\n",
    "        self.figure, self.canvas = plt.subplots(figsize=(30,5))\n",
    "        self.canvas.set_facecolor(self.bgColor)\n",
    "        self._draw()\n",
    "\n",
    "    def _set_limits(self):\n",
    "        self.ylims['intron_max'] = self.ylims['exon_max']*0.25\n",
    "        self.ylims['intron_min'] = (self.ylims['exon_max'] + self.ylims['exon_min'])/2.0\n",
    "        self.ylims['bar_min'] = self.ylims['exon_max']-0.6\n",
    "        self.ylims['bar_max'] = self.ylims['bar_min']+(self.ylims['exon_max']-self.ylims['exon_min'])/5.0\n",
    "        \n",
    "    def _find_exon_overlap(self,exon_intervals):\n",
    "        # takes a SORTED list of exon_intervals and looks for overlapping exons to ensure properly staggered in the diagram\n",
    "        exon_overlap_ls = [0] # keeps track of overlapping exons, if 0, no overlap, >1 indicates number of overlaps\n",
    "        exon_overlap_ct = 0\n",
    "        # start at 2nd exon\n",
    "        i = 1\n",
    "        exon_end_pos = exon_intervals[0][-1]\n",
    "        # [[266, 13483],[100, 21555],[21570,22000]  ]\n",
    "        while i<len(exon_intervals):\n",
    "            # look for overlap in the exon with the previous exon\n",
    "            # overlap if this intron's start position is less than the previous intron's end position\n",
    "            if (exon_intervals[i][0] < exon_end_pos):\n",
    "                # exons overlap\n",
    "                exon_overlap_ct+=1\n",
    "                # new exon_end_pos will be set if this exon ends past previous\n",
    "                exon_end_pos = max(exon_end_pos,exon_intervals[i][-1])\n",
    "            else:\n",
    "                # no overlap\n",
    "                exon_overlap_ct = 0 # resets the count (in event it increased from previous exons)\n",
    "                exon_end_pos = exon_intervals[i][-1]\n",
    "            exon_overlap_ls.append(exon_overlap_ct)\n",
    "            i+=1\n",
    "        # TODO: update exon intervals list to accomodate any overlaps\n",
    "        # for any overlaps puts largest exon in the back (positions it so largest exon is first)\n",
    "        \n",
    "        # TODO: be sure this works for all types of overlap because will be different for different types\n",
    "#         updated_exon_intervals = []\n",
    "#         self.exonIntervals = updated_exon_intervals # TODO: uncomment so updates exon intervals\n",
    "        return exon_overlap_ls\n",
    "                \n",
    "    \n",
    "    def _transform_spans(self):\n",
    "        span_lens = [x[1]-x[0] for x in self.exonIntervals]\n",
    "        max_len = float(max(span_lens))\n",
    "        transformed_intervals = []\n",
    "        if max_len < self.minExonLen:\n",
    "            span_ratios = [x/max_len for x in span_lens]\n",
    "            expansion_factor = self.totalSpan*1e-11\n",
    "            for i in range(1,10):\n",
    "                ef = (2**i)*expansion_factor\n",
    "                if max_len+ef > self.minExonLen:\n",
    "                    expansion_factor = ef\n",
    "                    break\n",
    "            for i,j in zip(self.exonIntervals, span_ratios):\n",
    "                mid = (i[0] + i[1])/2\n",
    "                f = (expansion_factor*j)/2\n",
    "                if mid+f - mid-f > self.minExonLen:\n",
    "                    transformed_intervals.append([mid-f, mid+f])\n",
    "                else:\n",
    "                    transformed_intervals.append([mid-(self.minExonLen/2), mid+(self.minExonLen/2)])\n",
    "        else:\n",
    "            for i in range(self.numExons):\n",
    "                if span_lens[i] < self.minExonLen:\n",
    "                    mid = (self.exonIntervals[i][0] + self.exonIntervals[i][0])/2 \n",
    "                    transformed_intervals.append([mid-(self.minExonLen/2), mid+(self.minExonLen/2)])\n",
    "                else:\n",
    "                    transformed_intervals.append(self.exonIntervals[i])\n",
    "        self.exonIntervals = transformed_intervals[:]\n",
    "        \n",
    "    def _draw_exon(self, span,col):\n",
    "        self.canvas.fill_between(span, self.ylims['exon_min']+.2, self.ylims['exon_max']-.2,\n",
    "                                 edgecolor=self.bgColor, facecolor=col)\n",
    "        return True\n",
    "    \n",
    "    def _draw_staggered_exon(self, span,col):\n",
    "        self.canvas.fill_between(span, self.ylims['exon_min']-.1+.2, self.ylims['exon_max']-.1-.2,\n",
    "                                 edgecolor=self.bgColor, facecolor=col)\n",
    "        return True\n",
    "        \n",
    "    def _draw_intron(self, span):\n",
    "        mid = (span[0]+span[1])/2.0\n",
    "        self.canvas.plot([span[0], mid], [self.ylims['intron_min'], self.ylims['intron_max']],\n",
    "                         c=self.intronColor, lw=self.intronWeight, ls=self.intronStyle)\n",
    "        self.canvas.plot([mid, span[1]], [self.ylims['intron_max'], self.ylims['intron_min']],\n",
    "                         c=self.intronColor, lw=self.intronWeight, ls=self.intronStyle)\n",
    "        return True\n",
    "    \n",
    "    def _draw_markers(self):\n",
    "        if self.markerHeights == []:\n",
    "            self.markerHeights = [self.ylims['exon_max']-self.ylims['exon_min'] for x in self.markerPositions]\n",
    "#         if self.markerColors == []:\n",
    "#             self.markerColors = [self.markerDefaultColor for x in self.markerPositions] \n",
    "        if self.markerColors == []:\n",
    "            self.markerColors = [self.markerDefaultColor for x in self.markerPositions]\n",
    "        if self.homologyList == []:\n",
    "            cmp1 = matplotlib.colors.LinearSegmentedColormap.from_list(\"\", self.markerColors)\n",
    "            self.canvas.scatter(self.markerPositions, [x+0.84 for x in self.markerHeights], \n",
    "                c = self.markerColors,\n",
    "                s=self.markerSize, marker='v', cmap=cmp1,\n",
    "                linewidths=1,edgecolors=self.markerEdgeDefaultColor, alpha=1)\n",
    "        else:\n",
    "            # If user inputs a list of homology values then will color arrows by homology with a color gradient, \n",
    "            # Create gradient for homology coloring\n",
    "            norm = matplotlib.colors.Normalize(-1,1)\n",
    "            grad_colrs = [[norm(-1.0), \"white\"],[norm( 1.0), \"#00bfc9\"]]\n",
    "            cmp1 = matplotlib.colors.LinearSegmentedColormap.from_list(\"\", grad_colrs)\n",
    "            # NOTE: 0.84 was an arbitrary number selected to ensure arrow labels show up at correct point on Exon bars\n",
    "            self.canvas.scatter(self.markerPositions, [x+0.84 for x in self.markerHeights], \n",
    "                    # TODO: changet this to an input value rather than something we put here!\n",
    "                    # homology list\n",
    "                    c = self.homologyList,\n",
    "                    s=self.markerSize, marker='v', cmap=cmp1,\n",
    "                    linewidths=1,edgecolors=self.markerEdgeDefaultColor, alpha=1)\n",
    "    \n",
    "    def _clean_axes(self):\n",
    "        #self.canvas.set_ylim((self.ylims['exon_min'], self.ylims['bar_max']))\n",
    "        self.canvas.set_yticks([], [])\n",
    "        self.canvas.get_xaxis().tick_top()\n",
    "        self.canvas.tick_params(axis='x', direction='out')\n",
    "        self.canvas.set_xticks([])\n",
    "        for o in [\"top\", \"bottom\", \"left\", \"right\"]:\n",
    "            self.canvas.spines[o].set_visible(False)\n",
    "        min_pos = 0#int(self.exonIntervals[0][0] - self.totalSpan * 0.1)\n",
    "        if min_pos < 0:\n",
    "            min_pos = 0\n",
    "        max_pos = self.totalSpan#int(self.exonIntervals[-1][1] + self.totalSpan * 0.1)\n",
    "        # TODO: why is the below value divided by 20? is it because of the gradient? is it specific to the gene?\n",
    "        minortick_pos = [int(x) for x in range(0, self.totalSpan, int((0-self.totalSpan)/20))][1:]\n",
    "        \n",
    "    def _draw(self):\n",
    "        self._set_limits()\n",
    "        self._transform_spans()\n",
    "        \n",
    "        # exon colors\n",
    "        exn_cols = ['#6b6ecf', '#9c9ede', '#8ca252', '#cedb9c', '#bd9e39', '#e7ba52', '#843c39', '#d6616b', '#7b4173', '#ce6dbd']\n",
    "#         exn_cols = ['#370042','#600073',\"#980070\",\"#c60065\",\"#e92a55\",\"#ff5a40\",\"#ff8827\",\"#ffb600\",\"#ffe300\",\"#fff89c\"]\n",
    "#         exn_cols = plt.cm.tab20b(np.linspace(0.1,0.9,10))\n",
    "\n",
    "        self.canvas.fill_between([0,self.totalSpan ],\n",
    "                                  self.ylims['bar_min'], self.ylims['bar_max'],\n",
    "                                  edgecolor=self.bgColor, facecolor=self.barColor)\n",
    "\n",
    "    \n",
    "        for i in range(self.numExons):\n",
    "            # draw introns\n",
    "            if i > 0: \n",
    "                self._draw_intron([self.exonIntervals[i-1][1], self.exonIntervals[i][0]])\n",
    "            # draw exons\n",
    "            # check if exons overlap for this interval\n",
    "            if self.exonOverlay[i] > 0:\n",
    "                print(i)\n",
    "                print(self.exonOverlay)\n",
    "                # TODO: make so this works for all cases (when i increases too)\n",
    "                self._draw_staggered_exon(self.exonIntervals[i],exn_cols[i])\n",
    "            else:\n",
    "                self._draw_exon(self.exonIntervals[i],exn_cols[i])\n",
    "        \n",
    "        self._draw_markers()\n",
    "        self._clean_axes()\n",
    "    \n",
    "    def show(self):\n",
    "        plt.show()\n",
    "        \n",
    "    def save(self,file_name):\n",
    "        plt.savefig(file_name+\".eps\", format='eps',transparent=True)\n",
    "        print(\"File saved to: \",file_name+\".eps\" )\n",
    "        \n",
    "\n",
    "# TODO: move arrows because with overlaps will have gaps, also want to work with introns\n",
    "# TODO: output a bar with homology values?\n",
    "# TODO: make so can input colors (be sure it checks have enough colors if not maybe have it warn or pick defaults?)\n",
    "# TODO: allow input to color arrows but also input if don't want to color them! - possibly make 2 tonal colors possible?\n",
    "# TODO: for colors show how to make 2 or 3-tonal just using python code (filling in number values)?\n",
    "# TODO: have a more \"Advanced\" section? with additional options?\n",
    "# TODO: try different gene maps\n",
    "# TODO: we had other figures we made for gene maps (at bottom of other file)\n",
    "# TODO: determine how to show overlaps in cases other than SAR-COV2 genome\n",
    "# TODO: check that have enough colors for large genes, auto-create gradient/color scheme otherwise\n"
   ]
  },
  {
   "cell_type": "code",
   "execution_count": 314,
   "metadata": {},
   "outputs": [
    {
     "data": {
      "text/plain": [
       "-3821"
      ]
     },
     "execution_count": 314,
     "metadata": {},
     "output_type": "execute_result"
    }
   ],
   "source": [
    "21563-23384"
   ]
  },
  {
   "cell_type": "code",
   "execution_count": 318,
   "metadata": {},
   "outputs": [
    {
     "name": "stdout",
     "output_type": "stream",
     "text": [
      "1\n",
      "[0, 1, 0, 0, 0, 0, 0, 0, 0]\n"
     ]
    },
    {
     "data": {
      "image/png": "[encoded data removed]",
      "text/plain": [
       "<Figure size 2160x360 with 1 Axes>"
      ]
     },
     "metadata": {},
     "output_type": "display_data"
    }
   ],
   "source": [
    "# exon positions\n",
    "exon_pos=[[266, 21555],[266, 13483], [21563, 25384], [25393, 26220], [26245, 26472], [26523, 27191], [27394, 27759], [27894, 28259], [28274, 29533]]\n",
    "\n",
    "# Patient isolate homology:\n",
    "# homology_list =  [20, 18, 17, 20, 12, 11, 23, 37, 13, 26, 14, 11, 23, 12, 13, 24, 12, 16, 13, 49, 14, 15, 9, 15, 13, 18, 17, 20, 16, 77, 16, 21, 16, 7, 14, 15, 17, 31, 30, 31, 17, 32, 31, 31, 13, 34, 36, 18, 8, 11, 9, 8, 8, 14, 24, 7, 13, 9, 14, 12, 13, 36, 100, 13, 18, 13, 15, 94, 14, 13, 41, 14, 48, 41, 47, 46, 46, 43, 36, 41, 6, 43, 43, 40, 16, 21, 21, 13, 21, 169, 20, 13, 22, 169, 17, 19, 14, 11, 14, 20, 19, 31, 12, 21, 17, 6, 21, 25]\n",
    "\n",
    "# CoV family homology:\n",
    "# homology_list = [3,3,4,3,16,64,42,35,59,14,4,64,78,5,42,4,38,68,58,19,43,67,68,69,24,6,60,70,40,7,17,25,8,5,66,54,9,63,10,9,38,47,49,10,28,15,34,9,12,11,12,24,64,100,34,13,63,63,49,51,47,77,64,66,51,50,31,9,55,15,11,10,34,10,34,12,11,56,37,21,11,53,84,14,13,12,87,10,15,10,12,9,9,12,13,22,42,67,10,10,29,30,5,4,13,15,22,0\n",
    "# NOTE: NEED TO UPDATE c IN CODE ABOVE TO CHANGE HOMOLOGY COLORS IN ARROWS!!\n",
    "\n",
    "# marker positions\n",
    "marker_positions = [29537, 8744,6059,2290,9679,11594,8201,6322,416,12932,6499,7643,8200,21391,14361,15376,17370,18571,14830,17107,20497,15786,18025,14080,20892,25375,23174,24289,21944,22820,22898,23239,22223,23240,24056,22550,23774,25992,25734,25870,25868,26066,25630,25745,25736,25413,25717,25914,26018,26463,26374,26467,26261,26258,26470,26313,26269,26305,26277,26369,26455,26581,27014,27032,26638,26573,26637,26602,27035,26693,26717,27123,26624,27751,27537,27522,27705,27671,27633,27656,27565,27455,27720,27715,27553,28119,27932,27940,28218,28002,28128,27986,28222,28024,28127,28163,28091,29328,29307,28945,28655,29276,29464,28992,29293,29303,28407,29292,29141]\n",
    "gene_length = 31976\n",
    "homology_values = [3,3,4,3,16,64,42,35,59,14,4,64,78,5,42,4,38,68,58,19,43,67,68,69,24,6,60,70,40,7,17,25,8,5,66,54,9,63,10,9,38,47,49,10,28,15,34,9,12,11,12,24,64,100,34,13,63,63,49,51,47,77,64,66,51,50,31,9,55,15,11,10,34,10,34,12,11,56,37,21,11,53,84,14,13,12,87,10,15,10,12,9,9,12,13,22,42,67,10,10,29,30,5,4,13,15,22,0]\n",
    "\n",
    "gene = GeneImage(total_span=gene_length, \n",
    "                 exon_intervals=exon_pos, \n",
    "                 marker_pos=marker_positions,\n",
    "#                  marker_colors=[\"pink\",\"red\",\"pink\"],\n",
    "                 #,homology_list = homology_values)\n",
    "                )\n",
    "# gene.show()\n",
    "# save\n",
    "# gene.save(\"covid_genome_arrows_colored_by_genome_presence\")\n",
    "# gene.save(\"covid_genome_arrows_colored_by_genome_presence_CoV_family\")\n"
   ]
  },
  {
   "cell_type": "code",
   "execution_count": 256,
   "metadata": {},
   "outputs": [],
   "source": [
    "# Homology List\n",
    "# list from 0 to 100 with 100 being highest homology 0 being no homology\n",
    "# TODO: make a script to output this!"
   ]
  },
  {
   "cell_type": "code",
   "execution_count": 149,
   "metadata": {},
   "outputs": [],
   "source": [
    "norm = matplotlib.colors.Normalize(-1,1)\n",
    "grad_colrs = [[norm(-1.0), \"white\"],[norm( 1.0), \"#00bfc9\"]]\n",
    "cmp1 = matplotlib.colors.LinearSegmentedColormap.from_list(\"\", grad_colrs)"
   ]
  },
  {
   "cell_type": "code",
   "execution_count": 213,
   "metadata": {},
   "outputs": [
    {
     "data": {
      "text/plain": [
       "<matplotlib.colors.LinearSegmentedColormap at 0x11dc68890>"
      ]
     },
     "execution_count": 213,
     "metadata": {},
     "output_type": "execute_result"
    }
   ],
   "source": [
    "matplotlib.colors.LinearSegmentedColormap.from_list(\"\", [\"pink\"])"
   ]
  },
  {
   "cell_type": "code",
   "execution_count": 249,
   "metadata": {},
   "outputs": [],
   "source": [
    "exon_pos = exon_pos.sort()"
   ]
  },
  {
   "cell_type": "code",
   "execution_count": 302,
   "metadata": {},
   "outputs": [],
   "source": [
    "exon_pos =[[266, 13483],[266, 21555], [21563, 25384], [25393, 26220], [26245, 26472], [26523, 27191], [27394, 27759], [27894, 28259], [28274, 29533]]\n"
   ]
  },
  {
   "cell_type": "code",
   "execution_count": 303,
   "metadata": {},
   "outputs": [
    {
     "data": {
      "text/plain": [
       "9"
      ]
     },
     "execution_count": 303,
     "metadata": {},
     "output_type": "execute_result"
    }
   ],
   "source": [
    "len(exon_pos)"
   ]
  },
  {
   "cell_type": "code",
   "execution_count": null,
   "metadata": {},
   "outputs": [],
   "source": []
  }
 ],
 "metadata": {
  "kernelspec": {
   "display_name": "Python 3",
   "language": "python",
   "name": "python3"
  },
  "language_info": {
   "codemirror_mode": {
    "name": "ipython",
    "version": 3
   },
   "file_extension": ".py",
   "mimetype": "text/x-python",
   "name": "python",
   "nbconvert_exporter": "python",
   "pygments_lexer": "ipython3",
   "version": "3.7.6"
  }
 },
 "nbformat": 4,
 "nbformat_minor": 4
}
